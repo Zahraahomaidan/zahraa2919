{
 "cells": [
  {
   "cell_type": "code",
   "execution_count": 1,
   "id": "dd9b5434",
   "metadata": {},
   "outputs": [
    {
     "name": "stdout",
     "output_type": "stream",
     "text": [
      "{'HTTP': 80, 'HTTPS': 443, 'FTP': 21, 'DNS': 53}\n"
     ]
    }
   ],
   "source": [
    "L1 = ['HTTP', 'HTTPS', 'FTP', 'DNS']\n",
    "L2 = [80, 443, 21, 53]\n",
    "d = {L1[i]: L2[i] for i in range(len(L1))}\n",
    "print(d)"
   ]
  },
  {
   "cell_type": "code",
   "execution_count": 5,
   "id": "0628acdc",
   "metadata": {},
   "outputs": [
    {
     "name": "stdout",
     "output_type": "stream",
     "text": [
      "Enter a number to calcuate The factorial: 3\n",
      "6\n"
     ]
    }
   ],
   "source": [
    "def f(a):\n",
    "    b = 1\n",
    "    for i in range(1, a + 1):\n",
    "        b *= i\n",
    "    return b\n",
    "\n",
    "n = int(input(\"Enter a number to calcuate The factorial: \"))\n",
    "if n>=0:\n",
    "    print(f(n))\n",
    "else:\n",
    "    print(\"Negative number\")"
   ]
  },
  {
   "cell_type": "code",
   "execution_count": 6,
   "id": "e2c50b6b",
   "metadata": {},
   "outputs": [
    {
     "name": "stdout",
     "output_type": "stream",
     "text": [
      "Bio\n"
     ]
    }
   ],
   "source": [
    "L = ['Network', 'Bio', 'Programming', 'Physics', 'Music']\n",
    "for item in L:\n",
    "    if item.startswith('B'):\n",
    "        print(item)"
   ]
  },
  {
   "cell_type": "code",
   "execution_count": 7,
   "id": "5e220b63",
   "metadata": {},
   "outputs": [
    {
     "name": "stdout",
     "output_type": "stream",
     "text": [
      "{0: 1, 1: 2, 2: 3, 3: 4, 4: 5, 5: 6, 6: 7, 7: 8, 8: 9, 9: 10, 10: 11}\n"
     ]
    }
   ],
   "source": [
    "d = {i: i + 1 for i in range(11)}\n",
    "print(d)"
   ]
  },
  {
   "cell_type": "code",
   "execution_count": 8,
   "id": "970b4027",
   "metadata": {},
   "outputs": [
    {
     "name": "stdout",
     "output_type": "stream",
     "text": [
      "Enter binary and za to exit: 1001\n",
      "9\n",
      "Enter binary and za to exit: 10001\n",
      "17\n",
      "Enter binary and za to exit: 222\n",
      "error input\n",
      "Enter binary and za to exit: za\n",
      "zahraa\n"
     ]
    }
   ],
   "source": [
    "def func(binary):\n",
    "    l=[]\n",
    "    dec=0\n",
    "    for i in binary:\n",
    "        l.append(int(i))\n",
    "    l.reverse()\n",
    "    for i in range(len (l)):\n",
    "        dec+=l[i]*2**i\n",
    "    return dec\n",
    "        \n",
    "while True:\n",
    "    b=input(\"Enter binary and za to exit: \")\n",
    "    if b=='za':\n",
    "        print(\"zahraa\")\n",
    "        break\n",
    "    if b.isalnum():\n",
    "        if '1' not in b or \"0\" not in b:\n",
    "            print(\"error input\")\n",
    "            continue\n",
    "        else:\n",
    "            print(func(b))\n",
    "    else:\n",
    "        print(\"error input\")"
   ]
  },
  {
   "cell_type": "code",
   "execution_count": 9,
   "id": "439953fa",
   "metadata": {},
   "outputs": [
    {
     "name": "stdout",
     "output_type": "stream",
     "text": [
      "Enter your name: zahraa\n",
      "2 + 2 = 4\n",
      "8 - 3 = 5\n",
      "7 * 5 = 35\n",
      "50 / 5 = 10\n",
      "11 + 8 = 19\n",
      "20 - 10 = 10\n",
      "10 * 2 = 20\n",
      "16 / 4 = 1\n",
      "9 + 3 = 1\n",
      "21 - 11 = 1\n",
      "4 * 6 = z\n",
      "Invalid input. Please enter a valid number.\n",
      "36 / 6 = 1\n",
      "13 + 7 = 2\n",
      "28 - 14 = 3\n",
      "5 * 8 = 3\n",
      "32 / 8 = 4\n",
      "6 + 9 = 5\n",
      "24 - 8 = 6\n",
      "2 * 10 = 7\n",
      "45 / 9 = 7\n",
      "zahraa, your score is: 8/20\n"
     ]
    }
   ],
   "source": [
    "questions = []\n",
    "try:\n",
    "    with open('q.txt', 'r') as file:\n",
    "        lines = file.readlines()\n",
    "        for line in lines:\n",
    "            question, answer = line.strip().split('=')\n",
    "            questions.append((question.strip(), int(answer.strip())))\n",
    "except Exception as e:\n",
    "    print(f\"Error reading file: {e}\")\n",
    "\n",
    "# الحصول على اسم المستخدم\n",
    "username = input(\"Enter your name: \")\n",
    "\n",
    "# حساب النتيجة\n",
    "score = 0\n",
    "for question, correct_answer in questions:\n",
    "    try:\n",
    "        user_answer = int(input(f\"{question} = \"))\n",
    "        if user_answer == correct_answer:\n",
    "            score += 1\n",
    "    except ValueError:\n",
    "        print(\"Invalid input. Please enter a valid number.\")\n",
    "\n",
    "# عرض النتيجة للمستخدم\n",
    "print(f\"{username}, your score is: {score}/20\")\n",
    "\n",
    "# حفظ النتيجة في ملف CSV\n",
    "try:\n",
    "    with open('النتيجة.csv', 'a') as file:\n",
    "        file.write(f\"{username},{score}\\n\")\n",
    "except Exception as e:\n",
    "    print(f\"Error writing to file: {e}\")"
   ]
  },
  {
   "cell_type": "code",
   "execution_count": 10,
   "id": "c29d7806",
   "metadata": {},
   "outputs": [
    {
     "name": "stdout",
     "output_type": "stream",
     "text": [
      "Balance after deposit: $1000.00\n",
      "Balance after withdrawal: $500.00\n",
      "Current balance: $1050.00, Interest rate: 5.00%\n"
     ]
    }
   ],
   "source": [
    "class BankAccount:\n",
    "    def __init__(self, account_number, account_holder):\n",
    "        self.account_number = account_number\n",
    "        self.account_holder = account_holder\n",
    "        self.balance = 0.0\n",
    "\n",
    "    def deposit(self, amount):\n",
    "        self.balance += amount\n",
    "\n",
    "    def withdraw(self, amount):\n",
    "        if amount <= self.balance:\n",
    "            self.balance -= amount\n",
    "        else:\n",
    "            print(\"Insufficient funds\")\n",
    "\n",
    "    def get_balance(self):\n",
    "        return self.balance\n",
    "\n",
    "class SavingsAccount(BankAccount):\n",
    "    def __init__(self, account_number, account_holder, interest_rate):\n",
    "        super().__init__(account_number, account_holder)\n",
    "        self.interest_rate = interest_rate\n",
    "\n",
    "    def apply_interest(self):\n",
    "        self.balance += self.balance * self.interest_rate\n",
    "\n",
    "    def __str__(self):\n",
    "        return f\"Current balance: ${self.balance:.2f}, Interest rate: {self.interest_rate * 100:.2f}%\"\n",
    "\n",
    "# إنشاء حساب بنك\n",
    "account = BankAccount(\"2919\", \"zahraa\")\n",
    "account.deposit(1000)\n",
    "print(f\"Balance after deposit: ${account.get_balance():.2f}\")\n",
    "account.withdraw(500)\n",
    "print(f\"Balance after withdrawal: ${account.get_balance():.2f}\")\n",
    "\n",
    "# إنشاء حساب توفير\n",
    "savings = SavingsAccount(\"2919\", \"zahraa\", 0.05)\n",
    "savings.deposit(1000)\n",
    "savings.apply_interest()\n",
    "print(savings)"
   ]
  },
  {
   "cell_type": "code",
   "execution_count": null,
   "id": "0d03f1a4",
   "metadata": {},
   "outputs": [],
   "source": []
  }
 ],
 "metadata": {
  "kernelspec": {
   "display_name": "Python 3 (ipykernel)",
   "language": "python",
   "name": "python3"
  },
  "language_info": {
   "codemirror_mode": {
    "name": "ipython",
    "version": 3
   },
   "file_extension": ".py",
   "mimetype": "text/x-python",
   "name": "python",
   "nbconvert_exporter": "python",
   "pygments_lexer": "ipython3",
   "version": "3.11.2"
  }
 },
 "nbformat": 4,
 "nbformat_minor": 5
}
